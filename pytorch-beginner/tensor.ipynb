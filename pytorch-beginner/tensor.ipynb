{
 "cells": [
  {
   "cell_type": "markdown",
   "metadata": {},
   "source": [
    "# Tensor Basics"
   ]
  },
  {
   "cell_type": "code",
   "execution_count": 41,
   "metadata": {},
   "outputs": [],
   "source": [
    "import torch"
   ]
  },
  {
   "cell_type": "markdown",
   "metadata": {},
   "source": [
    "## Tensor Initialization"
   ]
  },
  {
   "cell_type": "code",
   "execution_count": 42,
   "metadata": {},
   "outputs": [
    {
     "name": "stdout",
     "output_type": "stream",
     "text": [
      "tensor([[9.3674e-39, 1.0745e-38, 1.0653e-38],\n",
      "        [9.5510e-39, 1.0561e-38, 1.0194e-38],\n",
      "        [1.1112e-38, 1.0561e-38, 9.9184e-39],\n",
      "        [1.0653e-38, 4.1327e-39, 1.0194e-38],\n",
      "        [1.0469e-38, 8.9082e-39, 1.5134e-43]])\n",
      "torch.float32\n",
      "torch.Size([5, 3])\n"
     ]
    }
   ],
   "source": [
    "# Empty tensor\n",
    "x = torch.empty(5, 3)\n",
    "print(x)\n",
    "print(x.dtype)\n",
    "print(x.size())"
   ]
  },
  {
   "cell_type": "code",
   "execution_count": 43,
   "metadata": {},
   "outputs": [
    {
     "name": "stdout",
     "output_type": "stream",
     "text": [
      "tensor([[0.0887, 0.2164, 0.6078],\n",
      "        [0.6059, 0.7854, 0.9099],\n",
      "        [0.1518, 0.4695, 0.5882],\n",
      "        [0.4456, 0.0313, 0.4858],\n",
      "        [0.4134, 0.2083, 0.6035]])\n",
      "torch.float32\n",
      "torch.Size([5, 3])\n"
     ]
    }
   ],
   "source": [
    "# Random tensor\n",
    "x = torch.rand(5, 3)\n",
    "print(x)\n",
    "print(x.dtype)\n",
    "print(x.size())"
   ]
  },
  {
   "cell_type": "code",
   "execution_count": 44,
   "metadata": {},
   "outputs": [
    {
     "name": "stdout",
     "output_type": "stream",
     "text": [
      "tensor([[0, 0, 0],\n",
      "        [0, 0, 0],\n",
      "        [0, 0, 0],\n",
      "        [0, 0, 0],\n",
      "        [0, 0, 0]])\n",
      "torch.int64\n",
      "torch.Size([5, 3])\n"
     ]
    }
   ],
   "source": [
    "# Zero tensor\n",
    "x = torch.zeros(5, 3, dtype=torch.long)\n",
    "print(x)\n",
    "print(x.dtype)\n",
    "print(x.size())"
   ]
  },
  {
   "cell_type": "code",
   "execution_count": 45,
   "metadata": {},
   "outputs": [
    {
     "name": "stdout",
     "output_type": "stream",
     "text": [
      "tensor([[1, 1, 1],\n",
      "        [1, 1, 1],\n",
      "        [1, 1, 1],\n",
      "        [1, 1, 1],\n",
      "        [1, 1, 1]])\n",
      "torch.int64\n",
      "torch.Size([5, 3])\n"
     ]
    }
   ],
   "source": [
    "# One tensor\n",
    "x = torch.ones(5, 3, dtype=torch.long)\n",
    "print(x)\n",
    "print(x.dtype)\n",
    "print(x.size())"
   ]
  },
  {
   "cell_type": "code",
   "execution_count": 46,
   "metadata": {},
   "outputs": [
    {
     "name": "stdout",
     "output_type": "stream",
     "text": [
      "tensor([5.5000, 3.0000])\n",
      "torch.float32\n",
      "torch.Size([2])\n"
     ]
    }
   ],
   "source": [
    "# Tensor from data\n",
    "x = torch.tensor([5.5, 3])\n",
    "print(x)\n",
    "print(x.dtype)\n",
    "print(x.size())"
   ]
  },
  {
   "cell_type": "code",
   "execution_count": 47,
   "metadata": {},
   "outputs": [
    {
     "name": "stdout",
     "output_type": "stream",
     "text": [
      "tensor([[1., 1.],\n",
      "        [1., 1.]], requires_grad=True)\n"
     ]
    }
   ],
   "source": [
    "# Gradient Calculation\n",
    "x = torch.ones(2, 2, requires_grad=True)\n",
    "print(x)"
   ]
  },
  {
   "cell_type": "markdown",
   "metadata": {},
   "source": [
    "## Tensor Operations"
   ]
  },
  {
   "cell_type": "code",
   "execution_count": 48,
   "metadata": {},
   "outputs": [
    {
     "name": "stdout",
     "output_type": "stream",
     "text": [
      "tensor([[0.0223, 0.0260],\n",
      "        [0.0547, 0.0035]])\n",
      "tensor([[0.7440, 0.8342],\n",
      "        [0.4033, 0.5074]])\n"
     ]
    }
   ],
   "source": [
    "x = torch.rand(2, 2)\n",
    "y = torch.rand(2, 2)\n",
    "\n",
    "print(x)\n",
    "print(y)"
   ]
  },
  {
   "cell_type": "code",
   "execution_count": 49,
   "metadata": {},
   "outputs": [
    {
     "name": "stdout",
     "output_type": "stream",
     "text": [
      "tensor([[0.7663, 0.8602],\n",
      "        [0.4580, 0.5109]])\n",
      "tensor([[0.7663, 0.8602],\n",
      "        [0.4580, 0.5109]])\n",
      "tensor([[0.7663, 0.8602],\n",
      "        [0.4580, 0.5109]])\n"
     ]
    }
   ],
   "source": [
    "# Addition with + operator\n",
    "z = x + y\n",
    "print(z)\n",
    "\n",
    "# Addition with torch.add()\n",
    "z = torch.add(x, y)\n",
    "print(z)\n",
    "\n",
    "# In place addition\n",
    "y.add_(x)                       # y = y + x\n",
    "print(y)"
   ]
  },
  {
   "cell_type": "code",
   "execution_count": 50,
   "metadata": {},
   "outputs": [
    {
     "name": "stdout",
     "output_type": "stream",
     "text": [
      "tensor([[-0.7440, -0.8342],\n",
      "        [-0.4033, -0.5074]])\n",
      "tensor([[-0.7440, -0.8342],\n",
      "        [-0.4033, -0.5074]])\n",
      "tensor([[0.7440, 0.8342],\n",
      "        [0.4033, 0.5074]])\n"
     ]
    }
   ],
   "source": [
    "# Subtraction with - operator\n",
    "z = x - y\n",
    "print(z)\n",
    "\n",
    "# Subtraction with torch.sub()\n",
    "z = torch.sub(x, y)\n",
    "print(z)\n",
    "\n",
    "# In place subtraction\n",
    "y.sub_(x)                       # y = y - x\n",
    "print(y)"
   ]
  },
  {
   "cell_type": "code",
   "execution_count": 51,
   "metadata": {},
   "outputs": [
    {
     "name": "stdout",
     "output_type": "stream",
     "text": [
      "tensor([[0.0166, 0.0217],\n",
      "        [0.0221, 0.0018]])\n",
      "tensor([[0.0166, 0.0217],\n",
      "        [0.0221, 0.0018]])\n",
      "tensor([[0.0166, 0.0217],\n",
      "        [0.0221, 0.0018]])\n"
     ]
    }
   ],
   "source": [
    "# Multiplication with * operator\n",
    "z = x * y\n",
    "print(z)\n",
    "\n",
    "# Multiplication with torch.mul()\n",
    "z = torch.mul(x, y)\n",
    "print(z)\n",
    "\n",
    "# In place multiplication\n",
    "y.mul_(x)                       # y = y * x\n",
    "print(y)"
   ]
  },
  {
   "cell_type": "code",
   "execution_count": 52,
   "metadata": {},
   "outputs": [
    {
     "name": "stdout",
     "output_type": "stream",
     "text": [
      "tensor([[1.3442, 1.1987],\n",
      "        [2.4794, 1.9710]])\n",
      "tensor([[1.3442, 1.1987],\n",
      "        [2.4794, 1.9710]])\n",
      "tensor([[0.7440, 0.8342],\n",
      "        [0.4033, 0.5074]])\n"
     ]
    }
   ],
   "source": [
    "# Division with / operator\n",
    "z = x / y\n",
    "print(z)\n",
    "\n",
    "# Division with torch.div()\n",
    "z = torch.div(x, y)\n",
    "print(z)\n",
    "\n",
    "# In place division\n",
    "y.div_(x)                       # y = y / x\n",
    "print(y)"
   ]
  },
  {
   "cell_type": "code",
   "execution_count": 53,
   "metadata": {},
   "outputs": [
    {
     "name": "stdout",
     "output_type": "stream",
     "text": [
      "tensor([[0.4691, 0.0980, 0.2262],\n",
      "        [0.9690, 0.1789, 0.4162],\n",
      "        [0.4478, 0.6596, 0.2144],\n",
      "        [0.9134, 0.2097, 0.4753],\n",
      "        [0.2667, 0.9127, 0.2867]])\n",
      "tensor([0.0980, 0.1789, 0.6596, 0.2097, 0.9127])\n",
      "tensor([0.9690, 0.1789, 0.4162])\n",
      "0.17894965410232544\n"
     ]
    }
   ],
   "source": [
    "# Slicing\n",
    "x = torch.rand(5, 3)\n",
    "print(x)\n",
    "\n",
    "print(x[:, 1])                  # Second column\n",
    "print(x[1, :])                  # Second row\n",
    "print(x[1, 1].item())           # Second row, second column as a scalar (Works only for one element tensors)"
   ]
  },
  {
   "cell_type": "code",
   "execution_count": 54,
   "metadata": {},
   "outputs": [
    {
     "name": "stdout",
     "output_type": "stream",
     "text": [
      "tensor([[0.9311, 0.1564, 0.1228, 0.2647],\n",
      "        [0.8236, 0.4388, 0.2305, 0.5029],\n",
      "        [0.7511, 0.6201, 0.8383, 0.1813],\n",
      "        [0.9613, 0.5270, 0.7812, 0.3567]])\n",
      "tensor([0.9311, 0.1564, 0.1228, 0.2647, 0.8236, 0.4388, 0.2305, 0.5029, 0.7511,\n",
      "        0.6201, 0.8383, 0.1813, 0.9613, 0.5270, 0.7812, 0.3567])\n",
      "torch.Size([16])\n",
      "tensor([[0.9311, 0.1564, 0.1228, 0.2647, 0.8236, 0.4388, 0.2305, 0.5029],\n",
      "        [0.7511, 0.6201, 0.8383, 0.1813, 0.9613, 0.5270, 0.7812, 0.3567]])\n",
      "torch.Size([2, 8])\n"
     ]
    }
   ],
   "source": [
    "# Resizing\n",
    "x = torch.rand(4, 4)\n",
    "print(x)\n",
    "\n",
    "y = x.view(16)\n",
    "print(y)\n",
    "print(y.size())\n",
    "\n",
    "y = x.view(-1, 8)               # The size -1 is inferred from other dimensions\n",
    "print(y)\n",
    "print(y.size())"
   ]
  },
  {
   "cell_type": "markdown",
   "metadata": {},
   "source": [
    "## Tensor and Numpy"
   ]
  },
  {
   "cell_type": "code",
   "execution_count": 55,
   "metadata": {},
   "outputs": [],
   "source": [
    "import numpy as np"
   ]
  },
  {
   "cell_type": "markdown",
   "metadata": {},
   "source": [
    "Note that the tensor and numpy array will share their underlying memory locations (if the numpy array is on CPU), and changing one will change the other."
   ]
  },
  {
   "cell_type": "code",
   "execution_count": 56,
   "metadata": {},
   "outputs": [
    {
     "name": "stdout",
     "output_type": "stream",
     "text": [
      "tensor([1., 1., 1., 1., 1.]) torch.float32\n",
      "[1. 1. 1. 1. 1.] float32\n"
     ]
    }
   ],
   "source": [
    "a = torch.ones(5)\n",
    "print(a, a.dtype)\n",
    "\n",
    "b = a.numpy()\n",
    "print(b, b.dtype)"
   ]
  },
  {
   "cell_type": "code",
   "execution_count": 57,
   "metadata": {},
   "outputs": [
    {
     "name": "stdout",
     "output_type": "stream",
     "text": [
      "[1 1 1 1 1] int32\n",
      "tensor([1, 1, 1, 1, 1], dtype=torch.int32) torch.int32\n"
     ]
    }
   ],
   "source": [
    "a = np.ones(5, dtype=np.int32)\n",
    "print(a, a.dtype)\n",
    "\n",
    "b = torch.from_numpy(a)         \n",
    "print(b, b.dtype)"
   ]
  },
  {
   "cell_type": "markdown",
   "metadata": {},
   "source": [
    "## Tensor on GPU"
   ]
  },
  {
   "cell_type": "code",
   "execution_count": 58,
   "metadata": {},
   "outputs": [],
   "source": [
    "if torch.cuda.is_available():\n",
    "    device = torch.device(\"cuda\")           # a CUDA device object\n",
    "    y = torch.ones(5, device=device)        # directly create a tensor on GPU\n",
    "    x = torch.ones(5)\n",
    "    x = x.to(device)                        # or just use strings ``.to(\"cuda\")``\n",
    "    z = x + y\n",
    "    print(z)\n",
    "    print(z.to(\"cpu\", torch.double))        # ``.to`` can also change dtype together!"
   ]
  }
 ],
 "metadata": {
  "kernelspec": {
   "display_name": "Python 3.10.7 ('venv': venv)",
   "language": "python",
   "name": "python3"
  },
  "language_info": {
   "codemirror_mode": {
    "name": "ipython",
    "version": 3
   },
   "file_extension": ".py",
   "mimetype": "text/x-python",
   "name": "python",
   "nbconvert_exporter": "python",
   "pygments_lexer": "ipython3",
   "version": "3.10.7"
  },
  "orig_nbformat": 4,
  "vscode": {
   "interpreter": {
    "hash": "715289c5c08396236a33167d9acf491181f40a998edd45e8743b3070e480bded"
   }
  }
 },
 "nbformat": 4,
 "nbformat_minor": 2
}
